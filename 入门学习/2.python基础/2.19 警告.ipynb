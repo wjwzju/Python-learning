{
 "cells": [
  {
   "cell_type": "markdown",
   "metadata": {},
   "source": [
    "# 警告"
   ]
  },
  {
   "cell_type": "markdown",
   "metadata": {},
   "source": [
    "出现了一些需要让用户知道的问题，但又不想停止程序，这时候我们可以使用警告：\n",
    "\n",
    "首先导入警告模块："
   ]
  },
  {
   "cell_type": "code",
   "execution_count": 1,
   "metadata": {
    "collapsed": true
   },
   "outputs": [],
   "source": [
    "import warnings"
   ]
  },
  {
   "cell_type": "markdown",
   "metadata": {},
   "source": [
    "在需要的地方，我们使用 warnings 中的 warn 函数：\n",
    "\n",
    "    warn(msg, WarningType = UserWarning)"
   ]
  },
  {
   "cell_type": "code",
   "execution_count": 2,
   "metadata": {
    "collapsed": true
   },
   "outputs": [],
   "source": [
    "def month_warning(m):\n",
    "    if not 1 <= m <= 12:\n",
    "        msg = \"month %d is not between 1 and 12\" %m\n",
    "        warnings.warn(msg, RuntimeWarning)"
   ]
  },
  {
   "cell_type": "code",
   "execution_count": 3,
   "metadata": {
    "collapsed": true
   },
   "outputs": [],
   "source": [
    "month_warning(2)"
   ]
  },
  {
   "cell_type": "code",
   "execution_count": 4,
   "metadata": {},
   "outputs": [
    {
     "name": "stderr",
     "output_type": "stream",
     "text": [
      "F:\\software\\Anaconda3\\envs\\python3X\\lib\\site-packages\\ipykernel\\__main__.py:4: RuntimeWarning: month 14 is not between 1 and 12\n"
     ]
    }
   ],
   "source": [
    "month_warning(14)"
   ]
  },
  {
   "cell_type": "markdown",
   "metadata": {},
   "source": [
    "有时候我们想要忽略特定类型的警告，可以使用 warnings 的 filterwarnings 函数：\n",
    "\n",
    "    filterwarnings(action, category)\n",
    "\n",
    "将 action 设置为 'ignore' 便可以忽略特定类型的警告："
   ]
  },
  {
   "cell_type": "code",
   "execution_count": 5,
   "metadata": {
    "collapsed": true
   },
   "outputs": [],
   "source": [
    "warnings.filterwarnings(action='ignore', category=RuntimeWarning)\n",
    "\n",
    "month_warning(14)"
   ]
  },
  {
   "cell_type": "code",
   "execution_count": 7,
   "metadata": {},
   "outputs": [],
   "source": [
    "warnings.filterwarnings('ignore', 'RuntimeWarning')\n",
    "\n",
    "month_warning(14)"
   ]
  },
  {
   "cell_type": "code",
   "execution_count": 8,
   "metadata": {
    "collapsed": true
   },
   "outputs": [],
   "source": [
    "warnings.filterwarnings(action='ignore', category=UserWarning)\n",
    "\n",
    "month_warning(14)"
   ]
  }
 ],
 "metadata": {
  "kernelspec": {
   "display_name": "Python [conda env:python3X]",
   "language": "python",
   "name": "conda-env-python3X-py"
  },
  "language_info": {
   "codemirror_mode": {
    "name": "ipython",
    "version": 3
   },
   "file_extension": ".py",
   "mimetype": "text/x-python",
   "name": "python",
   "nbconvert_exporter": "python",
   "pygments_lexer": "ipython3",
   "version": "3.5.3"
  }
 },
 "nbformat": 4,
 "nbformat_minor": 2
}
