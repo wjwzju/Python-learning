{
 "cells": [
  {
   "cell_type": "markdown",
   "metadata": {},
   "source": [
    "# python赋值机制"
   ]
  },
  {
   "cell_type": "code",
   "execution_count": 2,
   "metadata": {},
   "outputs": [
    {
     "data": {
      "text/plain": [
       "[9, 2, 3]"
      ]
     },
     "execution_count": 2,
     "metadata": {},
     "output_type": "execute_result"
    }
   ],
   "source": [
    "a = [1, 2, 3]\n",
    "b = a\n",
    "b[0] = 9\n",
    "a"
   ]
  },
  {
   "cell_type": "markdown",
   "metadata": {},
   "source": [
    "改变b的值，a也会随之而变，这与python的赋值机制有关"
   ]
  },
  {
   "cell_type": "markdown",
   "metadata": {},
   "source": [
    "## 简单类型"
   ]
  },
  {
   "cell_type": "code",
   "execution_count": 4,
   "metadata": {},
   "outputs": [
    {
     "name": "stdout",
     "output_type": "stream",
     "text": [
      "500\n",
      "abc\n"
     ]
    }
   ],
   "source": [
    "x = 500\n",
    "y = x\n",
    "y = 'abc'\n",
    "print(x)\n",
    "print(y)"
   ]
  },
  {
   "cell_type": "markdown",
   "metadata": {},
   "source": [
    "* x = 500\n",
    "\n",
    "python分配了一个大小为PyInt的内存pos1来存储对象500.然后python在命名空间中让变量x指向这块内存，**注意**， 整数是**不可变类型**，所以这块内存的内容是不可变的。\n",
    "\n",
    "|内存|命名空间|\n",
    "|:--|:-|\n",
    "|pos1:PyInt(500)(不可变)|x : pos1|\n",
    "* y = x\n",
    "\n",
    "python并没有使用新的内存来储存变量 y 的值，而是在命名空间中，让变量 y 与变量 x 指向了同一块内存空间。\n",
    "\n",
    "|内存|命名空间|\n",
    "|:--|:-|\n",
    "|pos1:PyInt(500)(不可变)|x : pos1<br> y : pos1|\n",
    "* y = 'abc'\n",
    "\n",
    "因为pos1存储的是**不可变**的整数，所以python会分配一个PyStr大小的内存pos2来存储 abc，然后改变变量y的所指对象\n",
    "\n",
    "|内存|命名空间|\n",
    "|:--|:-|\n",
    "|pos1:PyInt(500)(不可变)<br>pos2:PyStr(abc)(可变)|x : pos1<br> y : pos2|\n",
    "\n",
    "对这一过程进行验证，可以使用id函数，id(x)返回变量x的地址"
   ]
  },
  {
   "cell_type": "code",
   "execution_count": 5,
   "metadata": {},
   "outputs": [
    {
     "data": {
      "text/plain": [
       "3053329061424"
      ]
     },
     "execution_count": 5,
     "metadata": {},
     "output_type": "execute_result"
    }
   ],
   "source": [
    "x = 500\n",
    "id(x)"
   ]
  },
  {
   "cell_type": "code",
   "execution_count": 6,
   "metadata": {},
   "outputs": [
    {
     "data": {
      "text/plain": [
       "3053329061424"
      ]
     },
     "execution_count": 6,
     "metadata": {},
     "output_type": "execute_result"
    }
   ],
   "source": [
    "y = x\n",
    "id(y)"
   ]
  },
  {
   "cell_type": "code",
   "execution_count": 7,
   "metadata": {},
   "outputs": [
    {
     "data": {
      "text/plain": [
       "True"
      ]
     },
     "execution_count": 7,
     "metadata": {},
     "output_type": "execute_result"
    }
   ],
   "source": [
    "x is y #也可以使用is来判断x和y是不是一个东西"
   ]
  },
  {
   "cell_type": "code",
   "execution_count": 8,
   "metadata": {},
   "outputs": [
    {
     "data": {
      "text/plain": [
       "3053268207744"
      ]
     },
     "execution_count": 8,
     "metadata": {},
     "output_type": "execute_result"
    }
   ],
   "source": [
    "y = 'abc'\n",
    "id(y)"
   ]
  },
  {
   "cell_type": "code",
   "execution_count": 9,
   "metadata": {},
   "outputs": [
    {
     "data": {
      "text/plain": [
       "False"
      ]
     },
     "execution_count": 9,
     "metadata": {},
     "output_type": "execute_result"
    }
   ],
   "source": [
    "x is y"
   ]
  },
  {
   "cell_type": "markdown",
   "metadata": {},
   "source": [
    "python会为每个出现的对象进行赋值，哪怕他们的值一样"
   ]
  },
  {
   "cell_type": "code",
   "execution_count": 12,
   "metadata": {
    "collapsed": true
   },
   "outputs": [],
   "source": [
    "x = 1000\n",
    "y = 1000"
   ]
  },
  {
   "cell_type": "code",
   "execution_count": 13,
   "metadata": {},
   "outputs": [
    {
     "data": {
      "text/plain": [
       "False"
      ]
     },
     "execution_count": 13,
     "metadata": {},
     "output_type": "execute_result"
    }
   ],
   "source": [
    "x is y"
   ]
  },
  {
   "cell_type": "markdown",
   "metadata": {},
   "source": [
    "不过，为了提高内存利用效率，对于一些简单的对象，如一些数值较小的int对象，Python采用了重用对象内存的办法："
   ]
  },
  {
   "cell_type": "code",
   "execution_count": 14,
   "metadata": {
    "collapsed": true
   },
   "outputs": [],
   "source": [
    "x = 100\n",
    "y = 100"
   ]
  },
  {
   "cell_type": "code",
   "execution_count": 15,
   "metadata": {},
   "outputs": [
    {
     "data": {
      "text/plain": [
       "True"
      ]
     },
     "execution_count": 15,
     "metadata": {},
     "output_type": "execute_result"
    }
   ],
   "source": [
    "x is y"
   ]
  },
  {
   "cell_type": "code",
   "execution_count": 16,
   "metadata": {},
   "outputs": [
    {
     "data": {
      "text/plain": [
       "100"
      ]
     },
     "execution_count": 16,
     "metadata": {},
     "output_type": "execute_result"
    }
   ],
   "source": [
    "y = 101\n",
    "x"
   ]
  },
  {
   "cell_type": "markdown",
   "metadata": {},
   "source": [
    "**这就意味着，一个整数a，每变化一次它的值，它的地址就会随之变化**"
   ]
  },
  {
   "cell_type": "code",
   "execution_count": 17,
   "metadata": {},
   "outputs": [
    {
     "data": {
      "text/plain": [
       "3053329061424"
      ]
     },
     "execution_count": 17,
     "metadata": {},
     "output_type": "execute_result"
    }
   ],
   "source": [
    "a = 10000\n",
    "id(a)"
   ]
  },
  {
   "cell_type": "code",
   "execution_count": 18,
   "metadata": {},
   "outputs": [
    {
     "data": {
      "text/plain": [
       "3053329061648"
      ]
     },
     "execution_count": 18,
     "metadata": {},
     "output_type": "execute_result"
    }
   ],
   "source": [
    "a = 1000\n",
    "id(a)"
   ]
  },
  {
   "cell_type": "markdown",
   "metadata": {},
   "source": [
    "## 容器类型"
   ]
  },
  {
   "cell_type": "code",
   "execution_count": 19,
   "metadata": {},
   "outputs": [
    {
     "name": "stdout",
     "output_type": "stream",
     "text": [
      "[1, 100, 3, 4]\n",
      "[700, 800]\n"
     ]
    }
   ],
   "source": [
    "x = [1, 2, 3, 4]\n",
    "y = x\n",
    "y[1] = 100\n",
    "y = [700, 800]\n",
    "print(x)\n",
    "print(y)"
   ]
  },
  {
   "cell_type": "markdown",
   "metadata": {},
   "source": [
    "* x = [1, 2, 3, 4]\n",
    "\n",
    "python为3个PyInt分配内存pos1, pos2, pos3(不可变)，然后为列表分配一段内存pos4，它包含3个位置，分别指向这3个内存，最后让变量x指向这个列表\n",
    "\n",
    "|内存|命名空间|\n",
    "|:--|:--|\n",
    "|pos1 : PyInt(1) (不可变) <br>pos2 : PyInt(2) (不可变)<br>pos3 : PyInt(3) (不可变) <br>pos4 : PyList(pos1, pos2, pos3) (可变)|x:pos4|\n",
    "\n",
    "* y = x\n",
    "\n",
    "并没有创建新的对象，只需要将y指向pos4\n",
    "\n",
    "|内存|命名空间|\n",
    "|:--|:--|\n",
    "|pos1 : PyInt(1) (不可变) <br>pos2 : PyInt(2) (不可变)<br>pos3 : PyInt(3) (不可变) <br>pos4 : PyList(pos1, pos2, pos3) (可变)|x:pos4<br>y:pos4|\n",
    "\n",
    "* y[1] = 100\n",
    "\n",
    "y[1]本来指向pos2，因为不能修改pos2处的值，所以为100分配一个新的内存pos5\n",
    "再把y[1]指向pos5.此时由于pos2位置的对象已经没有了，python会自动调用垃圾回收处理机制将它回收\n",
    "\n",
    "|内存|命名空间|\n",
    "|:--|:--|\n",
    "|pos1 : PyInt(1) (不可变) <br>pos2 :垃圾回收<br>pos3 : PyInt(3) (不可变) <br>pos4 : PyList(pos1, pos5, pos3) (可变)<br>pos5：PyInt(100)（不可变）|x:pos4<br>y:pos4|\n",
    "\n",
    "* y = [700, 800]\n",
    "\n",
    "创建一个列表，并将y指向它\n",
    "\n",
    "|内存|命名空间|\n",
    "|:--|:--|\n",
    "|pos1 : PyInt(1) (不可变) <br>pos3 : PyInt(3) (不可变) <br>pos4 : PyList(pos1, pos5, pos3) (可变)<br>pos5：PyInt(100)（不可变）<br> pos6：PyInt(700)（不可变）<br> pos7：PyInt(800)（不可变）<br>pos8 : PyList(pos5, pos6) (可变)|x:pos4<br>y:pos8|"
   ]
  }
 ],
 "metadata": {
  "kernelspec": {
   "display_name": "Python [conda env:python3X]",
   "language": "python",
   "name": "conda-env-python3X-py"
  },
  "language_info": {
   "codemirror_mode": {
    "name": "ipython",
    "version": 3
   },
   "file_extension": ".py",
   "mimetype": "text/x-python",
   "name": "python",
   "nbconvert_exporter": "python",
   "pygments_lexer": "ipython3",
   "version": "3.5.3"
  }
 },
 "nbformat": 4,
 "nbformat_minor": 2
}
