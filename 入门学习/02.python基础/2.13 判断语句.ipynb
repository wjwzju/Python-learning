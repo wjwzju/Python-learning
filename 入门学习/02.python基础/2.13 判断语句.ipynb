{
 "cells": [
  {
   "cell_type": "markdown",
   "metadata": {},
   "source": [
    "# 判断语句"
   ]
  },
  {
   "cell_type": "markdown",
   "metadata": {},
   "source": [
    "## 基本语法"
   ]
  },
  {
   "cell_type": "markdown",
   "metadata": {},
   "source": [
    "python不使用{}包含if语句控制区域，而是使用**缩进**来控制"
   ]
  },
  {
   "cell_type": "code",
   "execution_count": 4,
   "metadata": {},
   "outputs": [
    {
     "name": "stdout",
     "output_type": "stream",
     "text": [
      " > 0\n",
      "大于0\n"
     ]
    }
   ],
   "source": [
    "x = 1\n",
    "if x > 0 :\n",
    "    print(' > 0')\n",
    "    print('大于0')\n",
    "elif x == 0: \n",
    "    print(' = 0')\n",
    "else:\n",
    "    print(' < 0')"
   ]
  },
  {
   "cell_type": "code",
   "execution_count": 6,
   "metadata": {},
   "outputs": [
    {
     "name": "stdout",
     "output_type": "stream",
     "text": [
      "leap year\n"
     ]
    }
   ],
   "source": [
    "year = 2016\n",
    "if year % 100 == 0:\n",
    "    if year % 400 == 0:\n",
    "        print('leap year')\n",
    "    else:\n",
    "        print('not leap year')\n",
    "else:\n",
    "    if year % 4 == 0:\n",
    "        print('leap year')\n",
    "    else:\n",
    "        print('not leap year')"
   ]
  },
  {
   "cell_type": "markdown",
   "metadata": {},
   "source": [
    "## 值的测试"
   ]
  },
  {
   "cell_type": "markdown",
   "metadata": {},
   "source": [
    "Python不仅仅可以使用布尔型变量作为条件，它可以直接在if中使用任何表达式作为条件：\n",
    "\n",
    "大部分表达式的值都会被当作True，但以下表达式值会被当作False：\n",
    "\n",
    "* False\n",
    "* None\n",
    "* 0\n",
    "* 空字符串，空列表，空字典，空集合"
   ]
  }
 ],
 "metadata": {
  "kernelspec": {
   "display_name": "Python [conda env:python3X]",
   "language": "python",
   "name": "conda-env-python3X-py"
  },
  "language_info": {
   "codemirror_mode": {
    "name": "ipython",
    "version": 3
   },
   "file_extension": ".py",
   "mimetype": "text/x-python",
   "name": "python",
   "nbconvert_exporter": "python",
   "pygments_lexer": "ipython3",
   "version": "3.5.3"
  }
 },
 "nbformat": 4,
 "nbformat_minor": 2
}
