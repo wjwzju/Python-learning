{
 "cells": [
  {
   "cell_type": "code",
   "execution_count": 2,
   "metadata": {
    "collapsed": true
   },
   "outputs": [],
   "source": [
    "__author__ = 'wjw' #将一张图且分为9张方图"
   ]
  },
  {
   "cell_type": "code",
   "execution_count": 5,
   "metadata": {
    "collapsed": true
   },
   "outputs": [],
   "source": [
    "from PIL import Image\n",
    "import sys"
   ]
  },
  {
   "cell_type": "code",
   "execution_count": 11,
   "metadata": {
    "collapsed": true
   },
   "outputs": [],
   "source": [
    "Image.new?"
   ]
  },
  {
   "cell_type": "code",
   "execution_count": 6,
   "metadata": {
    "collapsed": true
   },
   "outputs": [],
   "source": [
    "def fill_image(image):\n",
    "    width, height = image.size\n",
    "    new_image_length = width if width > height else height\n",
    "    new_image = Image.new(image.mode, (new_image_length, new_image_length), 'white')\n",
    "    if width > height:\n",
    "        new_image.paste(image, (0, int((new_image_length - height) / 2)))\n",
    "    else:\n",
    "        new_image.paste(image, (int((new_image_length - width) / 2), 0))\n",
    "    return new_image"
   ]
  },
  {
   "cell_type": "code",
   "execution_count": 13,
   "metadata": {
    "collapsed": true
   },
   "outputs": [],
   "source": [
    "def split_image(image):\n",
    "    width, height = image.size\n",
    "    item_width = int(width / 3)\n",
    "    box_list = []\n",
    "    for i in range(0, 3):\n",
    "        for j in range(0, 3):\n",
    "            box = (j*item_width, i*item_width, (j+1)*item_width, (i+1)*item_width)\n",
    "            box_list.append(box)\n",
    "    \n",
    "    image_list = [image.crop(box) for box in box_list]\n",
    "    return image_list"
   ]
  },
  {
   "cell_type": "code",
   "execution_count": 16,
   "metadata": {
    "collapsed": true
   },
   "outputs": [],
   "source": [
    "def save_image(image_list):\n",
    "    index = 1\n",
    "    for image in image_list:\n",
    "        image.save('G:/Project/python/python-learning/3.5.X/assets/splict_image/' + str(index) + '.png', 'PNG')\n",
    "        index += 1"
   ]
  },
  {
   "cell_type": "code",
   "execution_count": 17,
   "metadata": {},
   "outputs": [],
   "source": [
    "#if __name__ == '__main__':\n",
    "file_path = \"origin.jpg\"\n",
    "image = Image.open(file_path)\n",
    "image = fill_image(image)\n",
    "image_list = split_image(image)\n",
    "save_image(image_list)"
   ]
  },
  {
   "cell_type": "code",
   "execution_count": null,
   "metadata": {
    "collapsed": true
   },
   "outputs": [],
   "source": []
  }
 ],
 "metadata": {
  "kernelspec": {
   "display_name": "Python [conda env:python3X]",
   "language": "python",
   "name": "conda-env-python3X-py"
  },
  "language_info": {
   "codemirror_mode": {
    "name": "ipython",
    "version": 3
   },
   "file_extension": ".py",
   "mimetype": "text/x-python",
   "name": "python",
   "nbconvert_exporter": "python",
   "pygments_lexer": "ipython3",
   "version": "3.5.3"
  }
 },
 "nbformat": 4,
 "nbformat_minor": 2
}
